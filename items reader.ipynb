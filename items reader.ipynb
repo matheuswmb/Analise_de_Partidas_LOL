{
 "cells": [
  {
   "cell_type": "code",
   "execution_count": 1,
   "id": "8edf4af6",
   "metadata": {},
   "outputs": [],
   "source": [
    "import pandas as pd\n",
    "import json"
   ]
  },
  {
   "cell_type": "code",
   "execution_count": 7,
   "id": "a1d34ed8",
   "metadata": {},
   "outputs": [],
   "source": [
    "jsonfile = open('lol_items.json')\n",
    "data = json.load(jsonfile)\n",
    "\n",
    "f = open('lol_items.txt', 'a')\n",
    "csv = open('lol_csv_items.txt', 'a')\n",
    "#print(data['data']['1001'].keys())\n",
    "\n",
    "for i in data['data'].keys():\n",
    "    \n",
    "    #print(data['data'][i]['gold'])\n",
    "    #f.write(\"Código Item: \" + str(i) + \" \" + \"Nome do Item: \" + str(data['data'][i]['name']) + \" \" + \"Preço: \" + str(data['data'][i]['gold']['base']) + \"\\n\")\n",
    "    csv.write(\"Código Item, \" + str(i) + \", \" + \"Nome do Item, \" + str(data['data'][i]['name']) + \", \" + str(data['data'][i]['gold']['base']) + \"\\n\")\n",
    "    #print(i + \": \" + data['data'][i]['name'])\n",
    "    \n",
    "\n",
    "f.close()\n",
    "csv.close()"
   ]
  },
  {
   "cell_type": "code",
   "execution_count": null,
   "id": "1664e0bc",
   "metadata": {},
   "outputs": [],
   "source": []
  }
 ],
 "metadata": {
  "kernelspec": {
   "display_name": "Python 3 (ipykernel)",
   "language": "python",
   "name": "python3"
  },
  "language_info": {
   "codemirror_mode": {
    "name": "ipython",
    "version": 3
   },
   "file_extension": ".py",
   "mimetype": "text/x-python",
   "name": "python",
   "nbconvert_exporter": "python",
   "pygments_lexer": "ipython3",
   "version": "3.9.6"
  }
 },
 "nbformat": 4,
 "nbformat_minor": 5
}
